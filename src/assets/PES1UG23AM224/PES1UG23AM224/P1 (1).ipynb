{
  "cells": [
    {
      "cell_type": "markdown",
      "metadata": {
        "id": "6MPS4yqLdmxU"
      },
      "source": [
        "# Basic Operations with Matrices"
      ]
    },
    {
      "cell_type": "code",
      "execution_count": 1,
      "metadata": {
        "colab": {
          "base_uri": "https://localhost:8080/"
        },
        "id": "AyHyWgcNdmxW",
        "outputId": "7ce63b7c-a5db-4526-af3c-f8c753a8c287"
      },
      "outputs": [
        {
          "output_type": "stream",
          "name": "stdout",
          "text": [
            "A: [[  1   2 -10   4]\n",
            " [  3   4   5  -6]\n",
            " [  3   3  -2   5]]\n",
            "B: [3 3 4 2]\n"
          ]
        }
      ],
      "source": [
        "\n",
        "import numpy as np\n",
        "\n",
        "A = np.array([[1, 2, -10, 4], [3, 4, 5, -6], [3, 3, -2, 5]])\n",
        "B = np.array([3, 3, 4, 2])\n",
        "\n",
        "print(\"A:\", A)\n",
        "print(\"B:\", B)"
      ]
    },
    {
      "cell_type": "markdown",
      "metadata": {
        "id": "wD-1s-WKdmxX"
      },
      "source": [
        "### Function to determine the length of the largest dimension"
      ]
    },
    {
      "cell_type": "code",
      "execution_count": 2,
      "metadata": {
        "colab": {
          "base_uri": "https://localhost:8080/"
        },
        "id": "XLiSFxUIdmxX",
        "outputId": "84f08009-a81c-4c49-fdfb-13679564eaa3"
      },
      "outputs": [
        {
          "output_type": "stream",
          "name": "stdout",
          "text": [
            "(3, 4)\n",
            "lengthA: 4\n",
            "lengthB: 4\n"
          ]
        }
      ],
      "source": [
        "def length(matrix):\n",
        "    return max(matrix.shape)\n",
        "\n",
        "lent =A.shape\n",
        "print(lent)\n",
        "\n",
        "lengthA = length(A)\n",
        "lengthB = length(B)\n",
        "print(\"lengthA:\", lengthA)\n",
        "print(\"lengthB:\", lengthB)"
      ]
    },
    {
      "cell_type": "markdown",
      "metadata": {
        "id": "d6CDT_e4dmxX"
      },
      "source": [
        "### A neat trick to stack Matrices"
      ]
    },
    {
      "cell_type": "code",
      "execution_count": 3,
      "metadata": {
        "colab": {
          "base_uri": "https://localhost:8080/"
        },
        "id": "AulqrLyadmxX",
        "outputId": "e3b71967-c1f4-4570-e895-3c38646fc622"
      },
      "outputs": [
        {
          "output_type": "execute_result",
          "data": {
            "text/plain": [
              "array([[  1,   2, -10,   4,   1],\n",
              "       [  3,   4,   5,  -6,   2],\n",
              "       [  3,   3,  -2,   5,   3],\n",
              "       [  3,   3,   4,   2,   4]])"
            ]
          },
          "metadata": {},
          "execution_count": 3
        }
      ],
      "source": [
        "C= np.vstack((A, B))\n",
        "arr= np.array([[1],[2],[3],[4]])\n",
        "result= np.hstack((C, arr))\n",
        "result"
      ]
    },
    {
      "cell_type": "markdown",
      "metadata": {
        "id": "aIxM15lwdmxX"
      },
      "source": [
        "### Building from other matrices"
      ]
    },
    {
      "cell_type": "code",
      "execution_count": 4,
      "metadata": {
        "colab": {
          "base_uri": "https://localhost:8080/"
        },
        "id": "1Bek2OS6dmxX",
        "outputId": "1796d246-e1ae-42ca-83a0-152f5992d3be"
      },
      "outputs": [
        {
          "output_type": "stream",
          "name": "stdout",
          "text": [
            "D: [[ 5 -6]\n",
            " [-2  5]\n",
            " [ 4  2]]\n"
          ]
        }
      ],
      "source": [
        "D = C[1:4, 2:4]\n",
        "print(\"D:\", D)"
      ]
    },
    {
      "cell_type": "markdown",
      "metadata": {
        "id": "ZHCXGsQhdmxY"
      },
      "source": [
        "### Transpose D to create E"
      ]
    },
    {
      "cell_type": "code",
      "execution_count": 5,
      "metadata": {
        "colab": {
          "base_uri": "https://localhost:8080/"
        },
        "id": "5Sei6yK0dmxY",
        "outputId": "60750f1c-c853-466a-e7c5-64b9cb19c34e"
      },
      "outputs": [
        {
          "output_type": "stream",
          "name": "stdout",
          "text": [
            "E: [[ 5 -2  4]\n",
            " [-6  5  2]]\n"
          ]
        }
      ],
      "source": [
        "E= D.T\n",
        "print(\"E:\", E)"
      ]
    },
    {
      "cell_type": "markdown",
      "metadata": {
        "id": "jVSzNFyGdmxY"
      },
      "source": [
        "### What does `shape` return?"
      ]
    },
    {
      "cell_type": "code",
      "execution_count": 6,
      "metadata": {
        "colab": {
          "base_uri": "https://localhost:8080/"
        },
        "id": "ocfZpKFDdmxY",
        "outputId": "7bacc30c-1ebe-4da8-ad6f-d4eaa375ac62"
      },
      "outputs": [
        {
          "output_type": "stream",
          "name": "stdout",
          "text": [
            "(2, 3)\n",
            "m: 2\n",
            "n: 3\n"
          ]
        }
      ],
      "source": [
        "arr = E.shape\n",
        "m, n= E.shape\n",
        "print(arr)\n",
        "print(\"m:\", m)\n",
        "print(\"n:\", n)"
      ]
    },
    {
      "cell_type": "markdown",
      "metadata": {
        "id": "1_YHuccRdmxY"
      },
      "source": [
        "### Generating values using `arange` and `linspace`"
      ]
    },
    {
      "cell_type": "code",
      "execution_count": 7,
      "metadata": {
        "colab": {
          "base_uri": "https://localhost:8080/"
        },
        "id": "0djdoQjQdmxY",
        "outputId": "7c83e37e-5f1f-4c06-a5d2-761003a9fbd4"
      },
      "outputs": [
        {
          "output_type": "stream",
          "name": "stdout",
          "text": [
            "3.141592653589793\n",
            "EqualSpaced: [0.         0.31415927 0.62831853 0.9424778  1.25663706 1.57079633\n",
            " 1.88495559 2.19911486 2.51327412 2.82743339 3.14159265 3.45575192\n",
            " 3.76991118 4.08407045 4.39822972 4.71238898 5.02654825 5.34070751\n",
            " 5.65486678 5.96902604]\n",
            "EqualSpaced1: [0.         0.31415927 0.62831853 0.9424778  1.25663706 1.57079633\n",
            " 1.88495559 2.19911486 2.51327412 2.82743339 3.14159265 3.45575192\n",
            " 3.76991118 4.08407045 4.39822972 4.71238898 5.02654825 5.34070751\n",
            " 5.65486678 5.96902604 6.28318531]\n"
          ]
        }
      ],
      "source": [
        "print(np.pi)\n",
        "EqualSpaced = np.arange(0, 2 * np.pi, np.pi / 10)\n",
        "EqualSpaced1 = np.linspace(0, 2 * np.pi, 21)\n",
        "print(\"EqualSpaced:\", EqualSpaced)\n",
        "print(\"EqualSpaced1:\", EqualSpaced1)"
      ]
    },
    {
      "cell_type": "markdown",
      "metadata": {
        "id": "ZmJOHfThdmxY"
      },
      "source": [
        "### Find the maximum and minimum in each column of A"
      ]
    },
    {
      "cell_type": "code",
      "execution_count": 8,
      "metadata": {
        "colab": {
          "base_uri": "https://localhost:8080/"
        },
        "id": "WVSj1iZedmxZ",
        "outputId": "b50db36a-1d02-443d-fe46-87e76f49fafe"
      },
      "outputs": [
        {
          "output_type": "stream",
          "name": "stdout",
          "text": [
            "[[  1   2 -10   4]\n",
            " [  3   4   5  -6]\n",
            " [  3   3  -2   5]]\n",
            "maxcolA: [3 4 5 5]\n",
            "mincolA: [  1   2 -10  -6]\n"
          ]
        }
      ],
      "source": [
        "print(A)\n",
        "maxcolA = np.max(A, axis=0)\n",
        "mincolA = np.min(A, axis=0)\n",
        "print(\"maxcolA:\", maxcolA)\n",
        "print(\"mincolA:\", mincolA)"
      ]
    },
    {
      "cell_type": "markdown",
      "metadata": {
        "id": "hYD2o_59dmxZ"
      },
      "source": [
        "### Find the maximum and minimum in each row of A"
      ]
    },
    {
      "cell_type": "code",
      "execution_count": 9,
      "metadata": {
        "colab": {
          "base_uri": "https://localhost:8080/"
        },
        "id": "Md0AWykVdmxZ",
        "outputId": "7b6fe1ab-a7dd-4964-ceb4-e6071d3c8534"
      },
      "outputs": [
        {
          "output_type": "stream",
          "name": "stdout",
          "text": [
            "[[  1   2 -10   4]\n",
            " [  3   4   5  -6]\n",
            " [  3   3  -2   5]]\n",
            "maxrowA: [4 5 5]\n",
            "minrowA: [-10  -6  -2]\n"
          ]
        }
      ],
      "source": [
        "print(A)\n",
        "maxrowA = np.max(A, axis=1)\n",
        "minrowA = np.min(A, axis=1)\n",
        "print(\"maxrowA:\", maxrowA)\n",
        "print(\"minrowA:\", minrowA)"
      ]
    },
    {
      "cell_type": "markdown",
      "metadata": {
        "id": "N8bcU7MpdmxZ"
      },
      "source": [
        "### Find the maximum and minimum elements in the entire matrix A"
      ]
    },
    {
      "cell_type": "code",
      "execution_count": 10,
      "metadata": {
        "colab": {
          "base_uri": "https://localhost:8080/"
        },
        "id": "TTYXie5ZdmxZ",
        "outputId": "cacc7d9a-8e99-4fde-8595-06ddc78a1b6d"
      },
      "outputs": [
        {
          "output_type": "stream",
          "name": "stdout",
          "text": [
            "maxA: 5\n",
            "minA: -10\n"
          ]
        }
      ],
      "source": [
        "maxA = np.max(A)\n",
        "minA = np.min(A)\n",
        "print(\"maxA:\", maxA)\n",
        "print(\"minA:\", minA)"
      ]
    },
    {
      "cell_type": "markdown",
      "metadata": {
        "id": "bhQyoaH-dmxZ"
      },
      "source": [
        "### Calculate mean and sum of all elements in A"
      ]
    },
    {
      "cell_type": "code",
      "execution_count": 11,
      "metadata": {
        "colab": {
          "base_uri": "https://localhost:8080/"
        },
        "id": "MDj9f-MLdmxZ",
        "outputId": "134e70b3-fb7b-4ef4-809f-9f6d6fc78f80"
      },
      "outputs": [
        {
          "output_type": "stream",
          "name": "stdout",
          "text": [
            "[[  1   2 -10   4]\n",
            " [  3   4   5  -6]\n",
            " [  3   3  -2   5]]\n",
            "meanA: 1.0\n",
            "sumA: 12\n"
          ]
        }
      ],
      "source": [
        "meanA = np.mean(A)\n",
        "sumA = np.sum(A)\n",
        "print(A)\n",
        "print(\"meanA:\", meanA)\n",
        "print(\"sumA:\", sumA)\n"
      ]
    },
    {
      "cell_type": "markdown",
      "metadata": {
        "id": "n15-Gc-hdmxZ"
      },
      "source": [
        "### Create matrices F and G with random integers from -4 to 4"
      ]
    },
    {
      "cell_type": "code",
      "execution_count": 12,
      "metadata": {
        "colab": {
          "base_uri": "https://localhost:8080/"
        },
        "id": "v2N3_0-1dmxZ",
        "outputId": "505a0870-852b-4128-8d43-f31efa9b0867"
      },
      "outputs": [
        {
          "output_type": "stream",
          "name": "stdout",
          "text": [
            "F: [[ 3 -1 -3]\n",
            " [-2  4  2]\n",
            " [ 2  0  0]\n",
            " [ 1 -2 -4]\n",
            " [-2  3  4]]\n",
            "G: [[ 2  1 -4]\n",
            " [ 4  3 -3]\n",
            " [ 3  1  4]\n",
            " [-4  2 -2]\n",
            " [ 1 -2  4]]\n"
          ]
        }
      ],
      "source": [
        "F = np.random.randint(-4, 5, (5, 3))\n",
        "G = np.random.randint(-4, 5, (5, 3))\n",
        "print(\"F:\", F)\n",
        "print(\"G:\", G)"
      ]
    },
    {
      "cell_type": "markdown",
      "metadata": {
        "id": "lbHqmoaCdmxZ"
      },
      "source": [
        "#### Perform scalar multiplication, addition, subtraction, and element-wise multiplication on F and G"
      ]
    },
    {
      "cell_type": "code",
      "execution_count": 13,
      "metadata": {
        "colab": {
          "base_uri": "https://localhost:8080/"
        },
        "id": "nGOd96lwdmxZ",
        "outputId": "d100531c-ebef-4583-d4dc-3c1d78974770"
      },
      "outputs": [
        {
          "output_type": "stream",
          "name": "stdout",
          "text": [
            "ScMultF: [[ 1.2 -0.4 -1.2]\n",
            " [-0.8  1.6  0.8]\n",
            " [ 0.8  0.   0. ]\n",
            " [ 0.4 -0.8 -1.6]\n",
            " [-0.8  1.2  1.6]]\n",
            "SumFG: [[ 5  0 -7]\n",
            " [ 2  7 -1]\n",
            " [ 5  1  4]\n",
            " [-3  0 -6]\n",
            " [-1  1  8]]\n",
            "DiffFG: [[ 1 -2  1]\n",
            " [-6  1  5]\n",
            " [-1 -1 -4]\n",
            " [ 5 -4 -2]\n",
            " [-3  5  0]]\n",
            "ElProdFG: [[ 6 -1 12]\n",
            " [-8 12 -6]\n",
            " [ 6  0  0]\n",
            " [-4 -4  8]\n",
            " [-2 -6 16]]\n"
          ]
        }
      ],
      "source": [
        "ScMultF = 0.4 * F\n",
        "SumFG = F + G\n",
        "DiffFG = F - G\n",
        "ElProdFG = F * G\n",
        "print(\"ScMultF:\", ScMultF)\n",
        "print(\"SumFG:\", SumFG)\n",
        "print(\"DiffFG:\", DiffFG)\n",
        "print(\"ElProdFG:\", ElProdFG)\n",
        "\n",
        "sizeF = F.shape\n",
        "sizeA = A.shape\n"
      ]
    },
    {
      "cell_type": "markdown",
      "metadata": {
        "id": "HfER-SAVdmxZ"
      },
      "source": [
        "### How do we go about Multiplying Matrices?"
      ]
    },
    {
      "cell_type": "code",
      "execution_count": 14,
      "metadata": {
        "colab": {
          "base_uri": "https://localhost:8080/"
        },
        "id": "SlrpxYA2dmxa",
        "outputId": "72faee44-dcb6-4d99-a39c-24580298bb1d"
      },
      "outputs": [
        {
          "output_type": "stream",
          "name": "stdout",
          "text": [
            "H: [[ -9  -7 -29   3]\n",
            " [ 16  18  36 -22]\n",
            " [  2   4 -20   8]\n",
            " [-17 -18 -12  -4]\n",
            " [ 19  20  27  -6]]\n"
          ]
        }
      ],
      "source": [
        "if sizeF[1] == sizeA[0]:\n",
        "    H = F @ A\n",
        "    print(\"H:\", H)\n",
        "else:\n",
        "    print(\"Cannot multiply F and A due to incompatible dimensions.\")"
      ]
    },
    {
      "cell_type": "markdown",
      "metadata": {
        "id": "I4eXtD1zdmxa"
      },
      "source": [
        "### Generate the identity matrix with 3 rows and 3 columns"
      ]
    },
    {
      "cell_type": "code",
      "execution_count": 15,
      "metadata": {
        "colab": {
          "base_uri": "https://localhost:8080/"
        },
        "id": "WvWAt0HSdmxa",
        "outputId": "7fecc57b-dcfd-4906-b050-867737c748fc"
      },
      "outputs": [
        {
          "output_type": "stream",
          "name": "stdout",
          "text": [
            "[[1. 0. 0. 0.]\n",
            " [0. 1. 0. 0.]\n",
            " [0. 0. 1. 0.]\n",
            " [0. 0. 0. 1.]]\n"
          ]
        }
      ],
      "source": [
        "eye33 = np.eye(4)\n",
        "print(eye33)"
      ]
    },
    {
      "cell_type": "markdown",
      "metadata": {
        "id": "wsbjreebdmxa"
      },
      "source": [
        "### Generate matrices of zeros with size 5x3 and ones with size 4x2"
      ]
    },
    {
      "cell_type": "code",
      "execution_count": 16,
      "metadata": {
        "colab": {
          "base_uri": "https://localhost:8080/"
        },
        "id": "5fTzeY59dmxa",
        "outputId": "4579d3c2-8b53-4ac7-d0df-285d9ab0dbf3"
      },
      "outputs": [
        {
          "output_type": "stream",
          "name": "stdout",
          "text": [
            "zeros53: [[0. 0. 0.]\n",
            " [0. 0. 0.]\n",
            " [0. 0. 0.]\n",
            " [0. 0. 0.]]\n",
            "ones42: [[1. 1.]\n",
            " [1. 1.]\n",
            " [1. 1.]\n",
            " [1. 1.]\n",
            " [1. 1.]]\n"
          ]
        }
      ],
      "source": [
        "zeros53 = np.zeros((4, 3))\n",
        "ones42 = np.ones((5, 2))\n",
        "print(\"zeros53:\", zeros53)\n",
        "print(\"ones42:\", ones42)"
      ]
    },
    {
      "cell_type": "markdown",
      "metadata": {
        "id": "F01WefNidmxa"
      },
      "source": [
        "### Generate a diagonal matrix S with the diagonal elements 1, 2, 7"
      ]
    },
    {
      "cell_type": "code",
      "execution_count": 17,
      "metadata": {
        "colab": {
          "base_uri": "https://localhost:8080/"
        },
        "id": "Wo3oJIy9dmxa",
        "outputId": "82d13438-0d08-4acf-e3af-69cd3696b08a"
      },
      "outputs": [
        {
          "output_type": "stream",
          "name": "stdout",
          "text": [
            "S: [[1 0 0 0]\n",
            " [0 2 0 0]\n",
            " [0 0 7 0]\n",
            " [0 0 0 5]]\n"
          ]
        }
      ],
      "source": [
        "S = np.diag([1, 2, 7, 5])\n",
        "print(\"S:\", S)"
      ]
    },
    {
      "cell_type": "markdown",
      "metadata": {
        "id": "4WwqLb6Mdmxa"
      },
      "source": [
        "### Extract the diagonal elements from a random 6x6 matrix"
      ]
    },
    {
      "cell_type": "code",
      "execution_count": 18,
      "metadata": {
        "colab": {
          "base_uri": "https://localhost:8080/"
        },
        "id": "_pWf8lwIdmxa",
        "outputId": "9b44272c-54d0-4505-b73d-9ea6b868bdfd"
      },
      "outputs": [
        {
          "output_type": "stream",
          "name": "stdout",
          "text": [
            "R: [[-6 -6  0  3 -2 -6]\n",
            " [ 2  3  5  5  3  3]\n",
            " [-1 -6  0 -3  2  2]\n",
            " [-3  2 -4  5 -6  0]\n",
            " [ 3  3 -2  2  0  5]\n",
            " [ 2  4  0 -3 -1  1]]\n",
            "diagR: [-6  3  0  5  0  1]\n"
          ]
        }
      ],
      "source": [
        "R = np.random.randint(-6, 6, (6, 6))\n",
        "diagR = np.diag(R)\n",
        "print(\"R:\", R)\n",
        "print(\"diagR:\", diagR)"
      ]
    }
  ],
  "metadata": {
    "kernelspec": {
      "display_name": "Python 3",
      "language": "python",
      "name": "python3"
    },
    "language_info": {
      "codemirror_mode": {
        "name": "ipython",
        "version": 3
      },
      "file_extension": ".py",
      "mimetype": "text/x-python",
      "name": "python",
      "nbconvert_exporter": "python",
      "pygments_lexer": "ipython3",
      "version": "3.8.20"
    },
    "colab": {
      "provenance": []
    }
  },
  "nbformat": 4,
  "nbformat_minor": 0
}